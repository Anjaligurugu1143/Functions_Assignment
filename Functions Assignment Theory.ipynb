{
 "cells": [
  {
   "cell_type": "markdown",
   "id": "3a3ad9f7-e856-4c55-89bf-ae76bb0276ad",
   "metadata": {},
   "source": [
    "# FUNCTIONS THEORY QUESTIONS"
   ]
  },
  {
   "cell_type": "markdown",
   "id": "7ecae658-e085-40be-93d6-7ae23419b873",
   "metadata": {},
   "source": [
    "## 1.What is the difference between a function and a method in Python?"
   ]
  },
  {
   "cell_type": "markdown",
   "id": "d9c7153b-da8c-46d9-a92d-25ea631fcd0e",
   "metadata": {},
   "source": [
    "Function:\n",
    "A function is a standalone block of code that performs a specific task.\n",
    "It is defined using the def keyword and can be called independently without being tied to a specific object.\n",
    "Functions can accept parameters and return values.\n",
    "\n",
    "Method:\n",
    "A method is a function that is associated with an object (typically a class instance).\n",
    "Methods are called on objects, meaning they must be accessed via an instance of the class to which they belong.\n",
    "The first parameter of a method in a class is typically self, which refers to the instance of the class that calls the method."
   ]
  },
  {
   "cell_type": "code",
   "execution_count": 1,
   "id": "183f3c48-8be6-41ed-995d-1e8f24d893f2",
   "metadata": {},
   "outputs": [
    {
     "name": "stdout",
     "output_type": "stream",
     "text": [
      "Hello, Anju!\n"
     ]
    }
   ],
   "source": [
    "#Function example\n",
    "def greet(name):\n",
    "    return f\"Hello, {name}!\"\n",
    "print(greet(\"Anju\"))"
   ]
  },
  {
   "cell_type": "code",
   "execution_count": 3,
   "id": "21b63fb5-71fc-4c86-846f-557eedb2b006",
   "metadata": {},
   "outputs": [
    {
     "name": "stdout",
     "output_type": "stream",
     "text": [
      "Hello, Anju!\n"
     ]
    }
   ],
   "source": [
    "#Method example\n",
    "class Greeter:\n",
    "    def greet(self, name):\n",
    "        return f\"Hello, {name}!\"\n",
    "greeter = Greeter()\n",
    "print(greeter.greet(\"Anju\"))"
   ]
  },
  {
   "cell_type": "markdown",
   "id": "bf015033-e7f2-45dc-bada-362cbc7992ab",
   "metadata": {},
   "source": [
    "## 2.Explain the concept of function arguments and parameters in Python."
   ]
  },
  {
   "cell_type": "markdown",
   "id": "52bb0f05-37d3-4913-bc5c-6acdc593c628",
   "metadata": {},
   "source": [
    "Parameters:\n",
    "Parameters are the variables listed inside the parentheses in the function definition.\n",
    "They define the input that a function expects.\n",
    "When a function is defined, parameters act as placeholders for the values that will be passed into the function."
   ]
  },
  {
   "cell_type": "code",
   "execution_count": 4,
   "id": "585654b1-2826-4ab0-9e93-b17b439411e5",
   "metadata": {},
   "outputs": [],
   "source": [
    "#Here, name is a parameter\n",
    "def greet(name):\n",
    "    return f\"Hello, {name}!\""
   ]
  },
  {
   "cell_type": "markdown",
   "id": "7ae717bf-c787-4b9a-97c4-47a6a9059734",
   "metadata": {},
   "source": [
    "Arguments:\n",
    "Arguments are the actual values passed into the function when it is called.\n",
    "These values are assigned to the function's parameters during the function call."
   ]
  },
  {
   "cell_type": "code",
   "execution_count": 5,
   "id": "9ba54b9e-b422-4a41-b2e4-f9ad21e144a7",
   "metadata": {},
   "outputs": [
    {
     "data": {
      "text/plain": [
       "'Hello, Anju!'"
      ]
     },
     "execution_count": 5,
     "metadata": {},
     "output_type": "execute_result"
    }
   ],
   "source": [
    "greet(\"Anju\")\n",
    "#\"Anju\" is the argument"
   ]
  },
  {
   "cell_type": "markdown",
   "id": "fca72843-41a1-45cf-a6d2-3ae2d582a591",
   "metadata": {},
   "source": [
    "## 3.What are the different ways to define and call a function in Python?"
   ]
  },
  {
   "cell_type": "markdown",
   "id": "e37ff7c5-370a-4d4e-85c8-1d08d6fb6c26",
   "metadata": {},
   "source": [
    "1. Standard Function Definition\n",
    "The most basic way to define a function in Python is using the def keyword."
   ]
  },
  {
   "cell_type": "code",
   "execution_count": 6,
   "id": "08228a60-7466-4f95-944e-e444653db65f",
   "metadata": {},
   "outputs": [
    {
     "name": "stdout",
     "output_type": "stream",
     "text": [
      "Hello, Anu!\n"
     ]
    }
   ],
   "source": [
    "def greet(name):\n",
    "    return f\"Hello, {name}!\"\n",
    "print(greet(\"Anu\"))"
   ]
  },
  {
   "cell_type": "markdown",
   "id": "5ac96c63-ab4f-42d9-bc7d-4e83e1c43053",
   "metadata": {},
   "source": [
    "2. Function with Default Arguments\n",
    "You can define functions with default argument values. If an argument is not provided, the default value is used."
   ]
  },
  {
   "cell_type": "code",
   "execution_count": 7,
   "id": "17812bef-632b-4e53-8291-73d2f5a01fb7",
   "metadata": {},
   "outputs": [
    {
     "name": "stdout",
     "output_type": "stream",
     "text": [
      "Hello, Guest!\n",
      "Hello, Anju!\n"
     ]
    }
   ],
   "source": [
    "def greet(name=\"Guest\"):\n",
    "    return f\"Hello, {name}!\"\n",
    "print(greet())\n",
    "print(greet(\"Anju\"))"
   ]
  },
  {
   "cell_type": "markdown",
   "id": "3c06bd75-b74f-4275-aef6-26186a21cd01",
   "metadata": {},
   "source": [
    "3. Lambda Functions (Anonymous Functions)\n",
    "Lambda functions are small, anonymous functions that can be defined using the lambda keyword. They are usually used for short, simple operations and do not require the def keyword."
   ]
  },
  {
   "cell_type": "code",
   "execution_count": 8,
   "id": "c0b3c293-1b2c-4cda-885e-5c4dc1500784",
   "metadata": {},
   "outputs": [
    {
     "name": "stdout",
     "output_type": "stream",
     "text": [
      "8\n"
     ]
    }
   ],
   "source": [
    "add = lambda a, b: a + b\n",
    "print(add(5, 3))"
   ]
  },
  {
   "cell_type": "markdown",
   "id": "5881a32d-bbfd-4b71-bd40-c38bf8ab17f1",
   "metadata": {},
   "source": [
    "4. Higher-Order Functions\n",
    "A higher-order function is a function that takes another function as an argument or returns a function."
   ]
  },
  {
   "cell_type": "code",
   "execution_count": 9,
   "id": "02bbfcaa-5d16-4eaf-a12e-af05d7564cc4",
   "metadata": {},
   "outputs": [
    {
     "name": "stdout",
     "output_type": "stream",
     "text": [
      "10\n"
     ]
    }
   ],
   "source": [
    "def apply_function(func, value):\n",
    "    return func(value)\n",
    "double = lambda x: x * 2\n",
    "print(apply_function(double, 5))"
   ]
  },
  {
   "cell_type": "markdown",
   "id": "e865acd9-a533-40e0-a3e7-53659b1d4012",
   "metadata": {},
   "source": [
    "5. Nested Functions (Functions inside Functions)\n",
    "A function can be defined inside another function. The inner function is only accessible within the outer function."
   ]
  },
  {
   "cell_type": "code",
   "execution_count": 10,
   "id": "74c9a64b-a25b-4580-bf87-f0007205c43b",
   "metadata": {},
   "outputs": [
    {
     "name": "stdout",
     "output_type": "stream",
     "text": [
      "Hello, World!\n"
     ]
    }
   ],
   "source": [
    "def outer_function(message):\n",
    "    def inner_function():\n",
    "        print(message)\n",
    "    inner_function()\n",
    "outer_function(\"Hello, World!\")"
   ]
  },
  {
   "cell_type": "markdown",
   "id": "407d3db5-fb5d-4d87-8db8-feb18e649843",
   "metadata": {},
   "source": [
    "6. Recursive Functions\n",
    "A recursive function is a function that calls itself in order to solve a problem. It requires a base case to prevent infinite recursion."
   ]
  },
  {
   "cell_type": "code",
   "execution_count": 11,
   "id": "213ed5a4-e4ec-4308-847e-d72368bfd066",
   "metadata": {},
   "outputs": [
    {
     "name": "stdout",
     "output_type": "stream",
     "text": [
      "120\n"
     ]
    }
   ],
   "source": [
    "def factorial(n):\n",
    "    if n == 1:\n",
    "        return 1\n",
    "    else:\n",
    "        return n * factorial(n-1)\n",
    "print(factorial(5))"
   ]
  },
  {
   "cell_type": "markdown",
   "id": "6a83ac62-8d44-428e-9c6a-db72ea10f05b",
   "metadata": {},
   "source": [
    "7. Generator Functions\n",
    "A generator function is defined using the yield keyword instead of return. It returns an iterator and generates values lazily, one at a time."
   ]
  },
  {
   "cell_type": "code",
   "execution_count": 12,
   "id": "579b7a94-94e0-4b13-844e-58226601c17e",
   "metadata": {},
   "outputs": [
    {
     "name": "stdout",
     "output_type": "stream",
     "text": [
      "5\n",
      "4\n",
      "3\n",
      "2\n",
      "1\n"
     ]
    }
   ],
   "source": [
    "def countdown(n):\n",
    "    while n > 0:\n",
    "        yield n\n",
    "        n -= 1\n",
    "for count in countdown(5):\n",
    "    print(count)"
   ]
  },
  {
   "cell_type": "markdown",
   "id": "06381ee8-0584-47b7-b86b-cdab57ef77fd",
   "metadata": {},
   "source": [
    "## 4.What is the purpose of the `return` statement in a Python function?"
   ]
  },
  {
   "cell_type": "markdown",
   "id": "7c689f30-fa70-4a28-9c94-f054c4ab67a9",
   "metadata": {},
   "source": [
    "The return statement in a Python function serves the purpose of terminating the function and optionally returning a value to the caller. When a function is called, the return statement allows the function to pass back data or an object to the part of the code that invoked it.\n",
    "Key purposes of the return statement:"
   ]
  },
  {
   "cell_type": "markdown",
   "id": "c170b129-79fb-4e8f-b1d9-e9223d965058",
   "metadata": {},
   "source": [
    "1. Return a Value\n",
    "The return statement allows a function to send back a value, expression, or object to the caller, which can then be used in further operations."
   ]
  },
  {
   "cell_type": "code",
   "execution_count": 13,
   "id": "13c2841e-8581-4a20-96c1-a00ec3ffffa4",
   "metadata": {},
   "outputs": [
    {
     "name": "stdout",
     "output_type": "stream",
     "text": [
      "8\n"
     ]
    }
   ],
   "source": [
    "def add(a, b):\n",
    "    return a + b\n",
    "result = add(5, 3)\n",
    "print(result)"
   ]
  },
  {
   "cell_type": "markdown",
   "id": "b735bdab-a8d8-424c-81cb-404836a70a65",
   "metadata": {},
   "source": [
    "2. Terminate Function Execution\n",
    "Once the return statement is executed, the function stops running. Any code written after the return statement inside the function will not be executed."
   ]
  },
  {
   "cell_type": "code",
   "execution_count": 14,
   "id": "d34dec5e-4f97-494f-8a22-1c80af4176b4",
   "metadata": {},
   "outputs": [
    {
     "name": "stdout",
     "output_type": "stream",
     "text": [
      "Positive\n"
     ]
    }
   ],
   "source": [
    "def check_number(n):\n",
    "    if n > 0:\n",
    "        return \"Positive\"\n",
    "    return \"Non-positive\"\n",
    "print(check_number(10))  "
   ]
  },
  {
   "cell_type": "markdown",
   "id": "4923070f-354a-4c5f-85ba-4086a999b529",
   "metadata": {},
   "source": [
    "3. Return Nothing\n",
    "If a function doesn't explicitly include a return statement, it automatically returns None. This is useful if the function is meant to perform some operation but does not need to return any data."
   ]
  },
  {
   "cell_type": "code",
   "execution_count": 15,
   "id": "ec79504c-0932-415c-b432-30daad7d42e2",
   "metadata": {},
   "outputs": [
    {
     "name": "stdout",
     "output_type": "stream",
     "text": [
      "Hello, Anu!\n",
      "None\n"
     ]
    }
   ],
   "source": [
    "def greet(name):\n",
    "    print(f\"Hello, {name}!\")\n",
    "result = greet(\"Anu\")\n",
    "print(result)"
   ]
  },
  {
   "cell_type": "markdown",
   "id": "b1aa3734-0a38-4dd3-b296-4f8f537de6fc",
   "metadata": {},
   "source": [
    "4. Return Multiple Values\n",
    "In Python, you can return multiple values from a function by separating them with commas. Python automatically packages them into a tuple."
   ]
  },
  {
   "cell_type": "code",
   "execution_count": 17,
   "id": "db22d6bb-237e-4a6e-b384-eeeb5dbd8f44",
   "metadata": {},
   "outputs": [
    {
     "name": "stdout",
     "output_type": "stream",
     "text": [
      "Anju\n",
      "20\n"
     ]
    }
   ],
   "source": [
    "def get_user_info():\n",
    "    name = \"Anju\"\n",
    "    age = 20\n",
    "    return name, age\n",
    "user_name, user_age = get_user_info()\n",
    "print(user_name)\n",
    "print(user_age)   "
   ]
  },
  {
   "cell_type": "markdown",
   "id": "c777733c-390b-4cf4-8441-65a0316c2bb3",
   "metadata": {},
   "source": [
    "## 5.What are iterators in Python and how do they differ from iterables?"
   ]
  },
  {
   "cell_type": "markdown",
   "id": "a2695a14-e159-4536-998d-ba040b0f08cd",
   "metadata": {},
   "source": [
    "Iterables:\n",
    "An iterable is any Python object capable of returning its members one at a time. These are objects that can be iterated (looped) over, like lists, tuples, strings, dictionaries, sets, etc.\n",
    "\n",
    "Key Characteristics of Iterables:\n",
    "Iterable objects have the special method __iter__() that returns an iterator.\n",
    "You can use the for loop or other iteration tools (e.g., list comprehensions) with iterables.\n",
    "Common examples of iterables include lists, tuples, strings, dictionaries, sets, and even files."
   ]
  },
  {
   "cell_type": "code",
   "execution_count": 18,
   "id": "b511e5a0-0b8d-402f-bdbf-76ee8b7ab2b8",
   "metadata": {},
   "outputs": [
    {
     "name": "stdout",
     "output_type": "stream",
     "text": [
      "1\n",
      "2\n",
      "3\n",
      "4\n"
     ]
    }
   ],
   "source": [
    "# List is an iterable\n",
    "my_list = [1, 2, 3, 4]\n",
    "for item in my_list:\n",
    "    print(item)"
   ]
  },
  {
   "cell_type": "markdown",
   "id": "c3731074-bc83-433a-8296-5f0a7652ac66",
   "metadata": {},
   "source": [
    "Iterators:\n",
    "An iterator is an object that represents a stream of data and knows how to fetch the next element when asked. It’s what you get when you call iter() on an iterable.\n",
    "\n",
    "Key Characteristics of Iterators:\n",
    "An iterator is an object that implements two special methods:\n",
    "__iter__(): Returns the iterator object itself (which allows compatibility with for loops and other iteration contexts).\n",
    "__next__(): Returns the next item in the sequence or raises a StopIteration exception when there are no more items.\n",
    "Iterators do not store their contents in memory. They generate the elements lazily (one at a time), which makes them more memory-efficient when dealing with large datasets.\n",
    "Once you traverse through an iterator, you cannot \"reset\" it unless you create a new iterator from the iterable."
   ]
  },
  {
   "cell_type": "code",
   "execution_count": 19,
   "id": "4bbfffcd-5bfb-496d-bd9e-327694dccc1e",
   "metadata": {},
   "outputs": [
    {
     "name": "stdout",
     "output_type": "stream",
     "text": [
      "1\n",
      "2\n"
     ]
    }
   ],
   "source": [
    "my_list = [1, 2, 3, 4]\n",
    "iterator = iter(my_list)\n",
    "print(next(iterator))  \n",
    "print(next(iterator))  "
   ]
  },
  {
   "cell_type": "markdown",
   "id": "8d04e0bf-63eb-4344-8d7b-9eceaf4b6e8c",
   "metadata": {},
   "source": [
    "## 6.Explain the concept of generators in Python and how they are defined."
   ]
  },
  {
   "cell_type": "markdown",
   "id": "a5bde906-4584-4c37-b671-6c1a74159579",
   "metadata": {},
   "source": [
    "In Python, generators are a special type of iterator that allow you to iterate over a sequence of values lazily, meaning they generate values on the fly as needed, rather than storing all values in memory at once. This makes generators very efficient, especially when working with large datasets or streams of data.\n",
    "\n",
    "Key Concepts of Generators:\n",
    "Lazy evaluation: Unlike lists, generators don’t store the entire sequence in memory. They produce items only when requested, which makes them more memory-efficient.\n",
    "State retention: A generator function automatically saves its state between subsequent calls, allowing it to \"pause\" and \"resume\" execution.\n",
    "Defined using yield: Generator functions use the yield keyword instead of return. Each time the generator's __next__() method is called, the function runs until it encounters yield, returning the value specified and pausing until the next value is requested.\n",
    "How to Define a Generator in Python\n",
    "\n",
    "Generators can be defined in two main ways:\n",
    "Generator Functions (using yield)\n",
    "Generator Expressions (similar to list comprehensions but with ())"
   ]
  },
  {
   "cell_type": "code",
   "execution_count": 21,
   "id": "e4d95494-023c-440f-91f8-4bfbf866c6af",
   "metadata": {},
   "outputs": [
    {
     "name": "stdout",
     "output_type": "stream",
     "text": [
      "1\n",
      "2\n",
      "3\n"
     ]
    }
   ],
   "source": [
    "#Generator Functions\n",
    "def count_up_to(max_value):\n",
    "    count = 1\n",
    "    while count <= max_value:\n",
    "        yield count\n",
    "        count += 1\n",
    "counter = count_up_to(5)\n",
    "print(next(counter))\n",
    "print(next(counter))\n",
    "print(next(counter))"
   ]
  },
  {
   "cell_type": "code",
   "execution_count": 22,
   "id": "1d2118e7-8a28-4d14-b8cb-3589c226f1c1",
   "metadata": {},
   "outputs": [
    {
     "name": "stdout",
     "output_type": "stream",
     "text": [
      "0\n",
      "1\n",
      "4\n"
     ]
    }
   ],
   "source": [
    "#Generator Expressions\n",
    "squares = (x * x for x in range(5))\n",
    "print(next(squares))  \n",
    "print(next(squares))  \n",
    "print(next(squares)) "
   ]
  },
  {
   "cell_type": "markdown",
   "id": "b32b0eb6-98f2-4757-a3e9-3a0565f1311f",
   "metadata": {},
   "source": [
    "## 7.What are the advantages of using generators over regular functions?"
   ]
  },
  {
   "cell_type": "markdown",
   "id": "239a93b1-2fe5-4483-b6e6-4dffef7b088b",
   "metadata": {},
   "source": [
    "1.Memory Efficiency: Generators yield one item at a time, avoiding storing entire data sets in memory, which is ideal for large or infinite data sets.\n",
    "\n",
    "2.Lazy Evaluation: Values are computed only when requested, reducing unnecessary computation and memory usage.\n",
    "\n",
    "3.Improved Performance: Generators process items on-demand, making them faster when dealing with large datasets.\n",
    "\n",
    "4.Pipelining: Generators can be chained to process data step-by-step without consuming memory for intermediate results.\n",
    "\n",
    "5.Simplified Iteration: Automatically manage iteration state, making code simpler and cleaner without explicit loop counters or indices.\n",
    "\n",
    "6.Support for Infinite Sequences: Generators handle infinite sequences efficiently by producing values one at a time.\n",
    "\n",
    "7.State Machines: Generators easily maintain internal state, simplifying the implementation of state machines."
   ]
  },
  {
   "cell_type": "code",
   "execution_count": 34,
   "id": "5b0ac1bf-93c5-46d5-8794-b96be26dda38",
   "metadata": {},
   "outputs": [
    {
     "name": "stdout",
     "output_type": "stream",
     "text": [
      "0\n",
      "1\n",
      "1\n",
      "2\n",
      "3\n",
      "5\n",
      "8\n",
      "13\n",
      "21\n",
      "34\n"
     ]
    }
   ],
   "source": [
    "def fibonacci():\n",
    "    a, b = 0, 1\n",
    "    while True:\n",
    "        yield a\n",
    "        a, b = b, a + b\n",
    "fib_gen = fibonacci()\n",
    "for _ in range(10):\n",
    "    print(next(fib_gen))"
   ]
  },
  {
   "cell_type": "markdown",
   "id": "5c56a362-bbd4-4e43-b3ab-6b9241d29afa",
   "metadata": {},
   "source": [
    "## 8.What is a lambda function in Python and when is it typically used?"
   ]
  },
  {
   "cell_type": "markdown",
   "id": "e25baaf2-8015-4733-b6cd-ccef1eefca14",
   "metadata": {},
   "source": [
    "In Python, a lambda function is a small, anonymous function that is defined using the lambda keyword instead of the standard def keyword. Lambda functions are typically used for short, simple operations where defining a full function using def would be unnecessary or verbose.\n",
    "\n",
    "Key Characteristics of Lambda Functions:\n",
    "Anonymous: Lambda functions do not require a name. They are defined in a single line and are often used for one-off or temporary operations.\n",
    "Compact: The syntax is more concise compared to normal functions.\n",
    "Single expression: Lambda functions consist of only one expression. The result of this expression is automatically returned."
   ]
  },
  {
   "cell_type": "code",
   "execution_count": 23,
   "id": "1da96b36-7777-4fa4-900b-91aa20657a00",
   "metadata": {},
   "outputs": [
    {
     "name": "stdout",
     "output_type": "stream",
     "text": [
      "8\n"
     ]
    }
   ],
   "source": [
    "# A lambda function to add two numbers\n",
    "add = lambda x, y: x + y\n",
    "print(add(5, 3))  "
   ]
  },
  {
   "cell_type": "markdown",
   "id": "b7b58930-0ff9-42a6-bbaa-5a12c1c35688",
   "metadata": {},
   "source": [
    "When to Use Lambda Functions:\n",
    "\n",
    "Lambda functions are typically used in situations where a small, throwaway function is needed. Here are some common use cases:\n",
    "1. As Arguments to Higher-Order Functions:\n",
    "Lambda functions are frequently passed as arguments to higher-order functions such as map(), filter(), and sorted(), where a function is needed to transform or filter data."
   ]
  },
  {
   "cell_type": "code",
   "execution_count": 24,
   "id": "2a5c0514-1c4e-4b03-b335-67c4f4e34375",
   "metadata": {},
   "outputs": [
    {
     "name": "stdout",
     "output_type": "stream",
     "text": [
      "[1, 4, 9, 16]\n"
     ]
    }
   ],
   "source": [
    "numbers = [1, 2, 3, 4]\n",
    "squares = map(lambda x: x * x, numbers)\n",
    "print(list(squares))"
   ]
  },
  {
   "cell_type": "markdown",
   "id": "f31688e3-9506-4bb2-b49d-f6108f18cbcb",
   "metadata": {},
   "source": [
    "2. In reduce() for Accumulating Results:\n",
    "Lambda functions are commonly used with the reduce() function from the functools module to perform accumulative operations like summing or multiplying all elements in a list."
   ]
  },
  {
   "cell_type": "code",
   "execution_count": 25,
   "id": "b82b0d5a-aed8-4083-a064-8ace32d07adf",
   "metadata": {},
   "outputs": [
    {
     "name": "stdout",
     "output_type": "stream",
     "text": [
      "24\n"
     ]
    }
   ],
   "source": [
    "from functools import reduce\n",
    "numbers = [1, 2, 3, 4]\n",
    "product = reduce(lambda x, y: x * y, numbers)\n",
    "print(product)"
   ]
  },
  {
   "cell_type": "markdown",
   "id": "64d0d101-e614-4395-bd4c-1c706a0b8244",
   "metadata": {},
   "source": [
    "## 9.Explain the purpose and usage of the map() function in Python."
   ]
  },
  {
   "cell_type": "markdown",
   "id": "a5d7f004-ff83-42db-98bb-ccdcfa9c20a4",
   "metadata": {},
   "source": [
    "Purpose of map() Function in Python:\n",
    "The map() function in Python is used to apply a given function to all the items of an iterable (like a list, tuple, etc.) and returns a map object (which is an iterator) containing the results. Its purpose is to simplify the process of transforming or processing data by applying a function to every item in a collection, without the need to write a manual loop.\n",
    "\n",
    "Usage of map() Function:\n",
    "map() applies the function to each element of the iterable and returns a map object.\n",
    "If multiple iterables are passed, the function must accept that many arguments, and map() will process them in parallel.\n",
    "The returned map object is an iterator, so you need to convert it to a list, tuple, or other data structures if you want to view or manipulate the result."
   ]
  },
  {
   "cell_type": "code",
   "execution_count": 26,
   "id": "d0edd5c4-a293-4cbc-9a20-57dba4703f2e",
   "metadata": {},
   "outputs": [
    {
     "name": "stdout",
     "output_type": "stream",
     "text": [
      "[1, 4, 9, 16, 25]\n"
     ]
    }
   ],
   "source": [
    "def square(x):\n",
    "    return x ** 2\n",
    "numbers = [1, 2, 3, 4, 5]\n",
    "result = map(square, numbers)\n",
    "print(list(result))"
   ]
  },
  {
   "cell_type": "code",
   "execution_count": 28,
   "id": "b2871266-c850-4f18-9f3e-3a610e16857a",
   "metadata": {},
   "outputs": [
    {
     "name": "stdout",
     "output_type": "stream",
     "text": [
      "[1, 4, 9, 16, 25]\n"
     ]
    }
   ],
   "source": [
    "#With lambda functions\n",
    "numbers = [1, 2, 3, 4, 5]\n",
    "result = map(lambda x: x**2, numbers)\n",
    "print(list(result))"
   ]
  },
  {
   "cell_type": "code",
   "execution_count": 29,
   "id": "4c3c26bf-2f5d-47a5-b759-5737592ab072",
   "metadata": {},
   "outputs": [
    {
     "name": "stdout",
     "output_type": "stream",
     "text": [
      "[11, 22, 33]\n"
     ]
    }
   ],
   "source": [
    "#with multiple iterables\n",
    "list1 = [1, 2, 3]\n",
    "list2 = [10, 20, 30]\n",
    "result = map(lambda x, y: x + y, list1, list2)\n",
    "print(list(result))"
   ]
  },
  {
   "cell_type": "markdown",
   "id": "58b91584-ac67-4664-9db0-b014cab070b9",
   "metadata": {},
   "source": [
    "## 10.What is the difference between map(), reduce(), and filter() functions in Python?"
   ]
  },
  {
   "cell_type": "markdown",
   "id": "05558a13-19b3-469d-a980-329bba660bd1",
   "metadata": {},
   "source": [
    "1. map()\n",
    "Purpose: The map() function applies a given function to each item in an iterable (like a list or tuple) and returns an iterator with the transformed values.\n",
    "Use Case: When you want to transform or apply a function to every element in an iterable."
   ]
  },
  {
   "cell_type": "code",
   "execution_count": 30,
   "id": "784b731d-cdae-4cf9-8136-bf49893663c2",
   "metadata": {},
   "outputs": [
    {
     "name": "stdout",
     "output_type": "stream",
     "text": [
      "[1, 4, 9, 16]\n"
     ]
    }
   ],
   "source": [
    "numbers = [1, 2, 3, 4]\n",
    "squared = map(lambda x: x ** 2, numbers)\n",
    "print(list(squared))"
   ]
  },
  {
   "cell_type": "markdown",
   "id": "a187bd8b-eb45-4f0e-bb0f-4648f6d46a02",
   "metadata": {},
   "source": [
    "2. reduce()\n",
    "Purpose: The reduce() function is used to reduce an iterable to a single value by repeatedly applying a function that takes two arguments (the first being an accumulator and the second being the next item from the iterable). It’s part of the functools module in Python 3.\n",
    "Use Case: When you want to accumulate or reduce a sequence of items into a single value (e.g., summing a list or multiplying elements)."
   ]
  },
  {
   "cell_type": "code",
   "execution_count": 32,
   "id": "50a4a9f2-e7e4-4637-9239-7c00f6a6e3b6",
   "metadata": {},
   "outputs": [
    {
     "name": "stdout",
     "output_type": "stream",
     "text": [
      "24\n"
     ]
    }
   ],
   "source": [
    "from functools import reduce\n",
    "numbers = [1, 2, 3, 4]\n",
    "product = reduce(lambda x, y: x * y, numbers)\n",
    "print(product)"
   ]
  },
  {
   "cell_type": "markdown",
   "id": "4759ebc4-2763-40d7-a7cd-75b046f5976e",
   "metadata": {},
   "source": [
    "3. filter()\n",
    "Purpose: The filter() function applies a given function to each item in an iterable and filters (or selects) only the items for which the function returns True. It returns an iterator of the filtered items.\n",
    "Use Case: When you want to filter out elements based on a condition"
   ]
  },
  {
   "cell_type": "code",
   "execution_count": 31,
   "id": "37ff6029-f308-481a-a96d-720e3fac406e",
   "metadata": {},
   "outputs": [
    {
     "name": "stdout",
     "output_type": "stream",
     "text": [
      "[2, 4, 6]\n"
     ]
    }
   ],
   "source": [
    "numbers = [1, 2, 3, 4, 5, 6]\n",
    "even_numbers = filter(lambda x: x % 2 == 0, numbers)\n",
    "print(list(even_numbers))"
   ]
  },
  {
   "cell_type": "markdown",
   "id": "70704fb6-0547-4890-b8fd-98443a4a7645",
   "metadata": {},
   "source": [
    "## 11. Using pen & Paper write the internal mechanism for sum operation using  reduce function on this given list:[47,11,42,13]"
   ]
  },
  {
   "cell_type": "code",
   "execution_count": 35,
   "id": "669126df-6d12-41e2-a370-7d779850c32d",
   "metadata": {},
   "outputs": [
    {
     "data": {
      "text/plain": [
       "113"
      ]
     },
     "execution_count": 35,
     "metadata": {},
     "output_type": "execute_result"
    }
   ],
   "source": [
    "list1=[47,11,42,13]\n",
    "reduce(lambda x,y:x+y,list1)"
   ]
  },
  {
   "cell_type": "markdown",
   "id": "00ec1b19-a397-472e-a674-2daed4b1aaee",
   "metadata": {},
   "source": [
    "![](reduce_img.jpg)"
   ]
  }
 ],
 "metadata": {
  "kernelspec": {
   "display_name": "Python 3 (ipykernel)",
   "language": "python",
   "name": "python3"
  },
  "language_info": {
   "codemirror_mode": {
    "name": "ipython",
    "version": 3
   },
   "file_extension": ".py",
   "mimetype": "text/x-python",
   "name": "python",
   "nbconvert_exporter": "python",
   "pygments_lexer": "ipython3",
   "version": "3.12.6"
  }
 },
 "nbformat": 4,
 "nbformat_minor": 5
}
